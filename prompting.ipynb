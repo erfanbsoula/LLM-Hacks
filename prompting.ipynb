{
  "nbformat": 4,
  "nbformat_minor": 0,
  "metadata": {
    "colab": {
      "provenance": [],
      "gpuType": "T4"
    },
    "kernelspec": {
      "name": "python3",
      "display_name": "Python 3"
    },
    "language_info": {
      "name": "python"
    },
    "accelerator": "GPU",
    "widgets": {
      "application/vnd.jupyter.widget-state+json": {
        "6ab1b20fef8a42efabcc0ad3e6525925": {
          "model_module": "@jupyter-widgets/controls",
          "model_name": "HBoxModel",
          "model_module_version": "1.5.0",
          "state": {
            "_dom_classes": [],
            "_model_module": "@jupyter-widgets/controls",
            "_model_module_version": "1.5.0",
            "_model_name": "HBoxModel",
            "_view_count": null,
            "_view_module": "@jupyter-widgets/controls",
            "_view_module_version": "1.5.0",
            "_view_name": "HBoxView",
            "box_style": "",
            "children": [
              "IPY_MODEL_91677b99b791433ea4059e2a2c94adfa",
              "IPY_MODEL_5e4f5e771b6c400782c9c28f96387ae1",
              "IPY_MODEL_8b725ad51ce24c769ce59a47165a14a6"
            ],
            "layout": "IPY_MODEL_801c260e196b41ad8948622231d0cc71"
          }
        },
        "91677b99b791433ea4059e2a2c94adfa": {
          "model_module": "@jupyter-widgets/controls",
          "model_name": "HTMLModel",
          "model_module_version": "1.5.0",
          "state": {
            "_dom_classes": [],
            "_model_module": "@jupyter-widgets/controls",
            "_model_module_version": "1.5.0",
            "_model_name": "HTMLModel",
            "_view_count": null,
            "_view_module": "@jupyter-widgets/controls",
            "_view_module_version": "1.5.0",
            "_view_name": "HTMLView",
            "description": "",
            "description_tooltip": null,
            "layout": "IPY_MODEL_d1204ce799144b2e84192679c558777e",
            "placeholder": "​",
            "style": "IPY_MODEL_f0142e9b9cdf49739611e28553952d66",
            "value": "100%"
          }
        },
        "5e4f5e771b6c400782c9c28f96387ae1": {
          "model_module": "@jupyter-widgets/controls",
          "model_name": "FloatProgressModel",
          "model_module_version": "1.5.0",
          "state": {
            "_dom_classes": [],
            "_model_module": "@jupyter-widgets/controls",
            "_model_module_version": "1.5.0",
            "_model_name": "FloatProgressModel",
            "_view_count": null,
            "_view_module": "@jupyter-widgets/controls",
            "_view_module_version": "1.5.0",
            "_view_name": "ProgressView",
            "bar_style": "success",
            "description": "",
            "description_tooltip": null,
            "layout": "IPY_MODEL_987872c131d24ea2b6fa343793e47c89",
            "max": 110,
            "min": 0,
            "orientation": "horizontal",
            "style": "IPY_MODEL_7f4af4d239a34a84a4cd264e31733384",
            "value": 110
          }
        },
        "8b725ad51ce24c769ce59a47165a14a6": {
          "model_module": "@jupyter-widgets/controls",
          "model_name": "HTMLModel",
          "model_module_version": "1.5.0",
          "state": {
            "_dom_classes": [],
            "_model_module": "@jupyter-widgets/controls",
            "_model_module_version": "1.5.0",
            "_model_name": "HTMLModel",
            "_view_count": null,
            "_view_module": "@jupyter-widgets/controls",
            "_view_module_version": "1.5.0",
            "_view_name": "HTMLView",
            "description": "",
            "description_tooltip": null,
            "layout": "IPY_MODEL_6b02f116630a42b9bec03980c516e3e2",
            "placeholder": "​",
            "style": "IPY_MODEL_2e2c903bd4a549449502cb4564db68bb",
            "value": " 110/110 [05:05&lt;00:00,  1.89s/it]"
          }
        },
        "801c260e196b41ad8948622231d0cc71": {
          "model_module": "@jupyter-widgets/base",
          "model_name": "LayoutModel",
          "model_module_version": "1.2.0",
          "state": {
            "_model_module": "@jupyter-widgets/base",
            "_model_module_version": "1.2.0",
            "_model_name": "LayoutModel",
            "_view_count": null,
            "_view_module": "@jupyter-widgets/base",
            "_view_module_version": "1.2.0",
            "_view_name": "LayoutView",
            "align_content": null,
            "align_items": null,
            "align_self": null,
            "border": null,
            "bottom": null,
            "display": null,
            "flex": null,
            "flex_flow": null,
            "grid_area": null,
            "grid_auto_columns": null,
            "grid_auto_flow": null,
            "grid_auto_rows": null,
            "grid_column": null,
            "grid_gap": null,
            "grid_row": null,
            "grid_template_areas": null,
            "grid_template_columns": null,
            "grid_template_rows": null,
            "height": null,
            "justify_content": null,
            "justify_items": null,
            "left": null,
            "margin": null,
            "max_height": null,
            "max_width": null,
            "min_height": null,
            "min_width": null,
            "object_fit": null,
            "object_position": null,
            "order": null,
            "overflow": null,
            "overflow_x": null,
            "overflow_y": null,
            "padding": null,
            "right": null,
            "top": null,
            "visibility": null,
            "width": null
          }
        },
        "d1204ce799144b2e84192679c558777e": {
          "model_module": "@jupyter-widgets/base",
          "model_name": "LayoutModel",
          "model_module_version": "1.2.0",
          "state": {
            "_model_module": "@jupyter-widgets/base",
            "_model_module_version": "1.2.0",
            "_model_name": "LayoutModel",
            "_view_count": null,
            "_view_module": "@jupyter-widgets/base",
            "_view_module_version": "1.2.0",
            "_view_name": "LayoutView",
            "align_content": null,
            "align_items": null,
            "align_self": null,
            "border": null,
            "bottom": null,
            "display": null,
            "flex": null,
            "flex_flow": null,
            "grid_area": null,
            "grid_auto_columns": null,
            "grid_auto_flow": null,
            "grid_auto_rows": null,
            "grid_column": null,
            "grid_gap": null,
            "grid_row": null,
            "grid_template_areas": null,
            "grid_template_columns": null,
            "grid_template_rows": null,
            "height": null,
            "justify_content": null,
            "justify_items": null,
            "left": null,
            "margin": null,
            "max_height": null,
            "max_width": null,
            "min_height": null,
            "min_width": null,
            "object_fit": null,
            "object_position": null,
            "order": null,
            "overflow": null,
            "overflow_x": null,
            "overflow_y": null,
            "padding": null,
            "right": null,
            "top": null,
            "visibility": null,
            "width": null
          }
        },
        "f0142e9b9cdf49739611e28553952d66": {
          "model_module": "@jupyter-widgets/controls",
          "model_name": "DescriptionStyleModel",
          "model_module_version": "1.5.0",
          "state": {
            "_model_module": "@jupyter-widgets/controls",
            "_model_module_version": "1.5.0",
            "_model_name": "DescriptionStyleModel",
            "_view_count": null,
            "_view_module": "@jupyter-widgets/base",
            "_view_module_version": "1.2.0",
            "_view_name": "StyleView",
            "description_width": ""
          }
        },
        "987872c131d24ea2b6fa343793e47c89": {
          "model_module": "@jupyter-widgets/base",
          "model_name": "LayoutModel",
          "model_module_version": "1.2.0",
          "state": {
            "_model_module": "@jupyter-widgets/base",
            "_model_module_version": "1.2.0",
            "_model_name": "LayoutModel",
            "_view_count": null,
            "_view_module": "@jupyter-widgets/base",
            "_view_module_version": "1.2.0",
            "_view_name": "LayoutView",
            "align_content": null,
            "align_items": null,
            "align_self": null,
            "border": null,
            "bottom": null,
            "display": null,
            "flex": null,
            "flex_flow": null,
            "grid_area": null,
            "grid_auto_columns": null,
            "grid_auto_flow": null,
            "grid_auto_rows": null,
            "grid_column": null,
            "grid_gap": null,
            "grid_row": null,
            "grid_template_areas": null,
            "grid_template_columns": null,
            "grid_template_rows": null,
            "height": null,
            "justify_content": null,
            "justify_items": null,
            "left": null,
            "margin": null,
            "max_height": null,
            "max_width": null,
            "min_height": null,
            "min_width": null,
            "object_fit": null,
            "object_position": null,
            "order": null,
            "overflow": null,
            "overflow_x": null,
            "overflow_y": null,
            "padding": null,
            "right": null,
            "top": null,
            "visibility": null,
            "width": null
          }
        },
        "7f4af4d239a34a84a4cd264e31733384": {
          "model_module": "@jupyter-widgets/controls",
          "model_name": "ProgressStyleModel",
          "model_module_version": "1.5.0",
          "state": {
            "_model_module": "@jupyter-widgets/controls",
            "_model_module_version": "1.5.0",
            "_model_name": "ProgressStyleModel",
            "_view_count": null,
            "_view_module": "@jupyter-widgets/base",
            "_view_module_version": "1.2.0",
            "_view_name": "StyleView",
            "bar_color": null,
            "description_width": ""
          }
        },
        "6b02f116630a42b9bec03980c516e3e2": {
          "model_module": "@jupyter-widgets/base",
          "model_name": "LayoutModel",
          "model_module_version": "1.2.0",
          "state": {
            "_model_module": "@jupyter-widgets/base",
            "_model_module_version": "1.2.0",
            "_model_name": "LayoutModel",
            "_view_count": null,
            "_view_module": "@jupyter-widgets/base",
            "_view_module_version": "1.2.0",
            "_view_name": "LayoutView",
            "align_content": null,
            "align_items": null,
            "align_self": null,
            "border": null,
            "bottom": null,
            "display": null,
            "flex": null,
            "flex_flow": null,
            "grid_area": null,
            "grid_auto_columns": null,
            "grid_auto_flow": null,
            "grid_auto_rows": null,
            "grid_column": null,
            "grid_gap": null,
            "grid_row": null,
            "grid_template_areas": null,
            "grid_template_columns": null,
            "grid_template_rows": null,
            "height": null,
            "justify_content": null,
            "justify_items": null,
            "left": null,
            "margin": null,
            "max_height": null,
            "max_width": null,
            "min_height": null,
            "min_width": null,
            "object_fit": null,
            "object_position": null,
            "order": null,
            "overflow": null,
            "overflow_x": null,
            "overflow_y": null,
            "padding": null,
            "right": null,
            "top": null,
            "visibility": null,
            "width": null
          }
        },
        "2e2c903bd4a549449502cb4564db68bb": {
          "model_module": "@jupyter-widgets/controls",
          "model_name": "DescriptionStyleModel",
          "model_module_version": "1.5.0",
          "state": {
            "_model_module": "@jupyter-widgets/controls",
            "_model_module_version": "1.5.0",
            "_model_name": "DescriptionStyleModel",
            "_view_count": null,
            "_view_module": "@jupyter-widgets/base",
            "_view_module_version": "1.2.0",
            "_view_name": "StyleView",
            "description_width": ""
          }
        },
        "52ade57efd48452baba00e6267e73a77": {
          "model_module": "@jupyter-widgets/controls",
          "model_name": "HBoxModel",
          "model_module_version": "1.5.0",
          "state": {
            "_dom_classes": [],
            "_model_module": "@jupyter-widgets/controls",
            "_model_module_version": "1.5.0",
            "_model_name": "HBoxModel",
            "_view_count": null,
            "_view_module": "@jupyter-widgets/controls",
            "_view_module_version": "1.5.0",
            "_view_name": "HBoxView",
            "box_style": "",
            "children": [
              "IPY_MODEL_8dd34642e7c04042a84a3a6cbd4e94a6",
              "IPY_MODEL_2fd630f827f844b9965e93e28db5a1cd",
              "IPY_MODEL_c2558c838b77439399f22725feec5dcf"
            ],
            "layout": "IPY_MODEL_97ef0be4c0504f51ad97035c3848f45e"
          }
        },
        "8dd34642e7c04042a84a3a6cbd4e94a6": {
          "model_module": "@jupyter-widgets/controls",
          "model_name": "HTMLModel",
          "model_module_version": "1.5.0",
          "state": {
            "_dom_classes": [],
            "_model_module": "@jupyter-widgets/controls",
            "_model_module_version": "1.5.0",
            "_model_name": "HTMLModel",
            "_view_count": null,
            "_view_module": "@jupyter-widgets/controls",
            "_view_module_version": "1.5.0",
            "_view_name": "HTMLView",
            "description": "",
            "description_tooltip": null,
            "layout": "IPY_MODEL_be01aa5b555f4adcb7710e39964cf43d",
            "placeholder": "​",
            "style": "IPY_MODEL_cb02294ac26044cd85d9dc5b9d6060e7",
            "value": "100%"
          }
        },
        "2fd630f827f844b9965e93e28db5a1cd": {
          "model_module": "@jupyter-widgets/controls",
          "model_name": "FloatProgressModel",
          "model_module_version": "1.5.0",
          "state": {
            "_dom_classes": [],
            "_model_module": "@jupyter-widgets/controls",
            "_model_module_version": "1.5.0",
            "_model_name": "FloatProgressModel",
            "_view_count": null,
            "_view_module": "@jupyter-widgets/controls",
            "_view_module_version": "1.5.0",
            "_view_name": "ProgressView",
            "bar_style": "success",
            "description": "",
            "description_tooltip": null,
            "layout": "IPY_MODEL_db0894aae2e8446ea008a7a2e537818f",
            "max": 110,
            "min": 0,
            "orientation": "horizontal",
            "style": "IPY_MODEL_2d1a8e60dcf34629b943dc110ad2c469",
            "value": 110
          }
        },
        "c2558c838b77439399f22725feec5dcf": {
          "model_module": "@jupyter-widgets/controls",
          "model_name": "HTMLModel",
          "model_module_version": "1.5.0",
          "state": {
            "_dom_classes": [],
            "_model_module": "@jupyter-widgets/controls",
            "_model_module_version": "1.5.0",
            "_model_name": "HTMLModel",
            "_view_count": null,
            "_view_module": "@jupyter-widgets/controls",
            "_view_module_version": "1.5.0",
            "_view_name": "HTMLView",
            "description": "",
            "description_tooltip": null,
            "layout": "IPY_MODEL_d7c03b587dd842ff8c373dd81d64a013",
            "placeholder": "​",
            "style": "IPY_MODEL_658d335ff0414079a7b22d39a157297f",
            "value": " 110/110 [04:40&lt;00:00,  2.48s/it]"
          }
        },
        "97ef0be4c0504f51ad97035c3848f45e": {
          "model_module": "@jupyter-widgets/base",
          "model_name": "LayoutModel",
          "model_module_version": "1.2.0",
          "state": {
            "_model_module": "@jupyter-widgets/base",
            "_model_module_version": "1.2.0",
            "_model_name": "LayoutModel",
            "_view_count": null,
            "_view_module": "@jupyter-widgets/base",
            "_view_module_version": "1.2.0",
            "_view_name": "LayoutView",
            "align_content": null,
            "align_items": null,
            "align_self": null,
            "border": null,
            "bottom": null,
            "display": null,
            "flex": null,
            "flex_flow": null,
            "grid_area": null,
            "grid_auto_columns": null,
            "grid_auto_flow": null,
            "grid_auto_rows": null,
            "grid_column": null,
            "grid_gap": null,
            "grid_row": null,
            "grid_template_areas": null,
            "grid_template_columns": null,
            "grid_template_rows": null,
            "height": null,
            "justify_content": null,
            "justify_items": null,
            "left": null,
            "margin": null,
            "max_height": null,
            "max_width": null,
            "min_height": null,
            "min_width": null,
            "object_fit": null,
            "object_position": null,
            "order": null,
            "overflow": null,
            "overflow_x": null,
            "overflow_y": null,
            "padding": null,
            "right": null,
            "top": null,
            "visibility": null,
            "width": null
          }
        },
        "be01aa5b555f4adcb7710e39964cf43d": {
          "model_module": "@jupyter-widgets/base",
          "model_name": "LayoutModel",
          "model_module_version": "1.2.0",
          "state": {
            "_model_module": "@jupyter-widgets/base",
            "_model_module_version": "1.2.0",
            "_model_name": "LayoutModel",
            "_view_count": null,
            "_view_module": "@jupyter-widgets/base",
            "_view_module_version": "1.2.0",
            "_view_name": "LayoutView",
            "align_content": null,
            "align_items": null,
            "align_self": null,
            "border": null,
            "bottom": null,
            "display": null,
            "flex": null,
            "flex_flow": null,
            "grid_area": null,
            "grid_auto_columns": null,
            "grid_auto_flow": null,
            "grid_auto_rows": null,
            "grid_column": null,
            "grid_gap": null,
            "grid_row": null,
            "grid_template_areas": null,
            "grid_template_columns": null,
            "grid_template_rows": null,
            "height": null,
            "justify_content": null,
            "justify_items": null,
            "left": null,
            "margin": null,
            "max_height": null,
            "max_width": null,
            "min_height": null,
            "min_width": null,
            "object_fit": null,
            "object_position": null,
            "order": null,
            "overflow": null,
            "overflow_x": null,
            "overflow_y": null,
            "padding": null,
            "right": null,
            "top": null,
            "visibility": null,
            "width": null
          }
        },
        "cb02294ac26044cd85d9dc5b9d6060e7": {
          "model_module": "@jupyter-widgets/controls",
          "model_name": "DescriptionStyleModel",
          "model_module_version": "1.5.0",
          "state": {
            "_model_module": "@jupyter-widgets/controls",
            "_model_module_version": "1.5.0",
            "_model_name": "DescriptionStyleModel",
            "_view_count": null,
            "_view_module": "@jupyter-widgets/base",
            "_view_module_version": "1.2.0",
            "_view_name": "StyleView",
            "description_width": ""
          }
        },
        "db0894aae2e8446ea008a7a2e537818f": {
          "model_module": "@jupyter-widgets/base",
          "model_name": "LayoutModel",
          "model_module_version": "1.2.0",
          "state": {
            "_model_module": "@jupyter-widgets/base",
            "_model_module_version": "1.2.0",
            "_model_name": "LayoutModel",
            "_view_count": null,
            "_view_module": "@jupyter-widgets/base",
            "_view_module_version": "1.2.0",
            "_view_name": "LayoutView",
            "align_content": null,
            "align_items": null,
            "align_self": null,
            "border": null,
            "bottom": null,
            "display": null,
            "flex": null,
            "flex_flow": null,
            "grid_area": null,
            "grid_auto_columns": null,
            "grid_auto_flow": null,
            "grid_auto_rows": null,
            "grid_column": null,
            "grid_gap": null,
            "grid_row": null,
            "grid_template_areas": null,
            "grid_template_columns": null,
            "grid_template_rows": null,
            "height": null,
            "justify_content": null,
            "justify_items": null,
            "left": null,
            "margin": null,
            "max_height": null,
            "max_width": null,
            "min_height": null,
            "min_width": null,
            "object_fit": null,
            "object_position": null,
            "order": null,
            "overflow": null,
            "overflow_x": null,
            "overflow_y": null,
            "padding": null,
            "right": null,
            "top": null,
            "visibility": null,
            "width": null
          }
        },
        "2d1a8e60dcf34629b943dc110ad2c469": {
          "model_module": "@jupyter-widgets/controls",
          "model_name": "ProgressStyleModel",
          "model_module_version": "1.5.0",
          "state": {
            "_model_module": "@jupyter-widgets/controls",
            "_model_module_version": "1.5.0",
            "_model_name": "ProgressStyleModel",
            "_view_count": null,
            "_view_module": "@jupyter-widgets/base",
            "_view_module_version": "1.2.0",
            "_view_name": "StyleView",
            "bar_color": null,
            "description_width": ""
          }
        },
        "d7c03b587dd842ff8c373dd81d64a013": {
          "model_module": "@jupyter-widgets/base",
          "model_name": "LayoutModel",
          "model_module_version": "1.2.0",
          "state": {
            "_model_module": "@jupyter-widgets/base",
            "_model_module_version": "1.2.0",
            "_model_name": "LayoutModel",
            "_view_count": null,
            "_view_module": "@jupyter-widgets/base",
            "_view_module_version": "1.2.0",
            "_view_name": "LayoutView",
            "align_content": null,
            "align_items": null,
            "align_self": null,
            "border": null,
            "bottom": null,
            "display": null,
            "flex": null,
            "flex_flow": null,
            "grid_area": null,
            "grid_auto_columns": null,
            "grid_auto_flow": null,
            "grid_auto_rows": null,
            "grid_column": null,
            "grid_gap": null,
            "grid_row": null,
            "grid_template_areas": null,
            "grid_template_columns": null,
            "grid_template_rows": null,
            "height": null,
            "justify_content": null,
            "justify_items": null,
            "left": null,
            "margin": null,
            "max_height": null,
            "max_width": null,
            "min_height": null,
            "min_width": null,
            "object_fit": null,
            "object_position": null,
            "order": null,
            "overflow": null,
            "overflow_x": null,
            "overflow_y": null,
            "padding": null,
            "right": null,
            "top": null,
            "visibility": null,
            "width": null
          }
        },
        "658d335ff0414079a7b22d39a157297f": {
          "model_module": "@jupyter-widgets/controls",
          "model_name": "DescriptionStyleModel",
          "model_module_version": "1.5.0",
          "state": {
            "_model_module": "@jupyter-widgets/controls",
            "_model_module_version": "1.5.0",
            "_model_name": "DescriptionStyleModel",
            "_view_count": null,
            "_view_module": "@jupyter-widgets/base",
            "_view_module_version": "1.2.0",
            "_view_name": "StyleView",
            "description_width": ""
          }
        }
      }
    }
  },
  "cells": [
    {
      "cell_type": "markdown",
      "source": [
        "# Prompt Engineering"
      ],
      "metadata": {
        "id": "install_libs_markdown"
      }
    },
    {
      "cell_type": "code",
      "execution_count": null,
      "metadata": {
        "id": "v5RUraSVjMZy",
        "colab": {
          "base_uri": "https://localhost:8080/"
        },
        "outputId": "458fc01d-1e45-4abe-90d2-1752d0ef2ede"
      },
      "outputs": [
        {
          "output_type": "stream",
          "name": "stdout",
          "text": [
            "\u001b[?25l   \u001b[90m━━━━━━━━━━━━━━━━━━━━━━━━━━━━━━━━━━━━━━━━\u001b[0m \u001b[32m0.0/474.3 kB\u001b[0m \u001b[31m?\u001b[0m eta \u001b[36m-:--:--\u001b[0m\r\u001b[2K   \u001b[91m━━━━━━━━━━━━━━━━━━━━━━━━━━━━━━━━━━━━━━━\u001b[0m\u001b[91m╸\u001b[0m \u001b[32m471.0/474.3 kB\u001b[0m \u001b[31m22.7 MB/s\u001b[0m eta \u001b[36m0:00:01\u001b[0m\r\u001b[2K   \u001b[90m━━━━━━━━━━━━━━━━━━━━━━━━━━━━━━━━━━━━━━━━\u001b[0m \u001b[32m474.3/474.3 kB\u001b[0m \u001b[31m12.6 MB/s\u001b[0m eta \u001b[36m0:00:00\u001b[0m\n",
            "\u001b[?25h\u001b[?25l   \u001b[90m━━━━━━━━━━━━━━━━━━━━━━━━━━━━━━━━━━━━━━━━\u001b[0m \u001b[32m0.0/177.6 kB\u001b[0m \u001b[31m?\u001b[0m eta \u001b[36m-:--:--\u001b[0m\r\u001b[2K   \u001b[90m━━━━━━━━━━━━━━━━━━━━━━━━━━━━━━━━━━━━━━━━\u001b[0m \u001b[32m177.6/177.6 kB\u001b[0m \u001b[31m14.9 MB/s\u001b[0m eta \u001b[36m0:00:00\u001b[0m\n",
            "\u001b[?25h\u001b[31mERROR: pip's dependency resolver does not currently take into account all the packages that are installed. This behaviour is the source of the following dependency conflicts.\n",
            "gcsfs 2025.3.2 requires fsspec==2025.3.2, but you have fsspec 2024.6.1 which is incompatible.\u001b[0m\u001b[31m\n",
            "\u001b[0m"
          ]
        }
      ],
      "source": [
        "!pip install -q torch transformers datasets==3.0.0 accelerate peft trl evaluate rouge_score"
      ]
    },
    {
      "cell_type": "code",
      "source": [
        "import torch, json\n",
        "from random import randint\n",
        "from tqdm.notebook import tqdm\n",
        "import transformers\n",
        "from datasets import load_dataset\n",
        "from transformers import AutoModelForCausalLM, AutoTokenizer, TrainingArguments\n",
        "from trl import SFTTrainer, SFTConfig\n",
        "from peft import LoraConfig, get_peft_model, TaskType\n",
        "import evaluate\n",
        "import warnings\n",
        "\n",
        "warnings.filterwarnings(\"ignore\")\n",
        "transformers.logging.set_verbosity_error()\n",
        "\n",
        "print(f\"PyTorch version: {torch.__version__}\")\n",
        "print(f\"CUDA available: {torch.cuda.is_available()}\")\n",
        "print(f\"Transformers version: {transformers.__version__}\")"
      ],
      "metadata": {
        "id": "aJ3wreP4jQt5",
        "colab": {
          "base_uri": "https://localhost:8080/"
        },
        "outputId": "417d868a-5f59-4c92-8391-2aebaa9c494b"
      },
      "execution_count": null,
      "outputs": [
        {
          "output_type": "stream",
          "name": "stdout",
          "text": [
            "PyTorch version: 2.6.0+cu124\n",
            "CUDA available: True\n",
            "Transformers version: 4.53.2\n"
          ]
        }
      ]
    },
    {
      "cell_type": "code",
      "source": [
        "from huggingface_hub import login\n",
        "login(token=\"Your Token Here\")"
      ],
      "metadata": {
        "id": "ELZd6JSK7BIO"
      },
      "execution_count": null,
      "outputs": []
    },
    {
      "cell_type": "markdown",
      "source": [
        "## Load Tokenizer"
      ],
      "metadata": {
        "id": "2DWVVyI_5deT"
      }
    },
    {
      "cell_type": "code",
      "source": [
        "model_name = \"Qwen/Qwen2-1.5B\"\n",
        "\n",
        "tokenizer = AutoTokenizer.from_pretrained(model_name)\n",
        "tokenizer.pad_token = tokenizer.eos_token\n",
        "\n",
        "model = AutoModelForCausalLM.from_pretrained(\n",
        "    model_name,\n",
        "    trust_remote_code=True,\n",
        "    torch_dtype=\"auto\",\n",
        "    device_map=\"auto\"\n",
        ")"
      ],
      "metadata": {
        "id": "KgzcKXfY5jPG"
      },
      "execution_count": null,
      "outputs": []
    },
    {
      "cell_type": "markdown",
      "source": [
        "## Dataset and Preprocessing"
      ],
      "metadata": {
        "id": "avcEnM2m8GF-"
      }
    },
    {
      "cell_type": "code",
      "source": [
        "class TweetSummPreprocessor():\n",
        "\n",
        "    # Added tokenizer to the constructor\n",
        "    def __init__(self, tokenizer):\n",
        "        self.tokenizer = tokenizer\n",
        "        self.instruction = \"# Instruction\\n\" \\\n",
        "            \"Based on the provided dialog between a customer and agent, \" \\\n",
        "            \"generate a concise summary of the dialog. \" \\\n",
        "            \"The summary should include the main idea of the dialog. \" \\\n",
        "            \"The summary should be exactly two sentences. \" \\\n",
        "            \"The first sentence of the summary is about the customer, \" \\\n",
        "            \"and the second sentence of summary is about the agent.\"\n",
        "\n",
        "    def __is_valid_word(self, word):\n",
        "        return not (word[0] in '@#*^<' or 'http' in word)\n",
        "\n",
        "    def __preprocess_text(self, txt):\n",
        "        txt = txt.encode('ascii', 'ignore').decode()\n",
        "        return \" \".join(filter(self.__is_valid_word , txt.split()))\n",
        "\n",
        "    def __process_dialog(self, dialog):\n",
        "\n",
        "        dialog_txts = []\n",
        "\n",
        "        for turn in dialog:\n",
        "            user_text = self.__preprocess_text(turn['user utterance'])\n",
        "            dialog_txts.append(f\"customer: {user_text}\")\n",
        "            agent_text = self.__preprocess_text(turn['system response'])\n",
        "            dialog_txts.append(f\"agent: {agent_text}\")\n",
        "\n",
        "        return \"\\n\".join(dialog_txts)\n",
        "\n",
        "    def __process_summary(self, info):\n",
        "\n",
        "        summaries = json.loads(info)['summaries']['abstractive_summaries']\n",
        "        summary = summaries[randint(0, len(summaries)-1)]\n",
        "        summary = [self.__preprocess_text(sentence) for sentence in summary]\n",
        "\n",
        "        return \" \".join(summary)\n",
        "\n",
        "    def __process_datapoint(self, datapoint):\n",
        "\n",
        "        dialog = self.__process_dialog(datapoint['log'])\n",
        "        summary = self.__process_summary(datapoint['original dialog info'])\n",
        "\n",
        "        # Using the tokenizer's eos_token instead of a hardcoded string\n",
        "        text = self.instruction + \"\\n# Dialog\\n\" + dialog + \\\n",
        "               \"\\n# Summary\\n\" + summary + self.tokenizer.eos_token\n",
        "\n",
        "        return {\n",
        "            'dialog': dialog,\n",
        "            'summary': summary,\n",
        "            'text': text,\n",
        "            'prompt': self.instruction + \"\\n# Dialog\\n\" + dialog + \"\\n# Summary\\n\",\n",
        "            \"completion\": summary + self.tokenizer.eos_token\n",
        "        }\n",
        "\n",
        "    def __call__(self, datapoint):\n",
        "        return self.__process_datapoint(datapoint)\n",
        "\n",
        "    def get_zero_shot_prompt(self, datapoint):\n",
        "\n",
        "        prompt = self.instruction + \\\n",
        "                 \"\\n# Dialog\\n\" + datapoint['dialog'] + \"\\n# Summary\\n\"\n",
        "\n",
        "        return prompt\n",
        "\n",
        "    def get_one_shot_prompt(self, datapoint, datapool):\n",
        "\n",
        "        pool_indx = randint(0, len(datapool)-1)\n",
        "        example = datapool[pool_indx]\n",
        "\n",
        "        prompt = self.instruction + \"\\n# Dialog\\n\" + example['dialog'] + \\\n",
        "                 \"\\n# Summary\\n\" + example['summary'] + \\\n",
        "                 \"\\n# Dialog\\n\" + datapoint['dialog'] + \"\\n# Summary\\n\"\n",
        "\n",
        "        return prompt"
      ],
      "metadata": {
        "id": "kF71MG_J-7hp"
      },
      "execution_count": null,
      "outputs": []
    },
    {
      "cell_type": "code",
      "source": [
        "tweetSumm = load_dataset('Salesforce/dialogstudio', 'TweetSumm', trust_remote_code=True)\n",
        "preprocessor = TweetSummPreprocessor(tokenizer)\n",
        "\n",
        "colums_to_remove = ['original dialog id', 'new dialog id', 'dialog index', 'original dialog info', 'log']\n",
        "tweetSumm['train'] = tweetSumm['train'].shuffle(seed=42).map(preprocessor).remove_columns(colums_to_remove)\n",
        "tweetSumm['validation'] = tweetSumm['validation'].shuffle(seed=42).map(preprocessor).remove_columns(colums_to_remove)\n",
        "tweetSumm['test'] = tweetSumm['test'].shuffle(seed=42).map(preprocessor).remove_columns(colums_to_remove)\n",
        "\n",
        "gt_summaries = [datapoint['summary'] for datapoint in tweetSumm['test']]\n",
        "rouge = evaluate.load('rouge')"
      ],
      "metadata": {
        "id": "-Oc92Cbs5skA"
      },
      "execution_count": null,
      "outputs": []
    },
    {
      "cell_type": "markdown",
      "source": [
        "### Zero-Shot Evaluation"
      ],
      "metadata": {
        "id": "B7oh75deOTcz"
      }
    },
    {
      "cell_type": "code",
      "source": [
        "zero_shot_dataset = [preprocessor.get_zero_shot_prompt(datapoint) for datapoint in tweetSumm['test']]\n",
        "print(zero_shot_dataset[0])"
      ],
      "metadata": {
        "id": "tyXGDWm73fp8",
        "colab": {
          "base_uri": "https://localhost:8080/"
        },
        "outputId": "aeb2627b-d1f8-452f-c9e5-8ef45f1c76c1"
      },
      "execution_count": null,
      "outputs": [
        {
          "output_type": "stream",
          "name": "stdout",
          "text": [
            "# Instruction\n",
            "Based on the provided dialog between a customer and agent, generate a concise summary of the dialog. The summary should include the main idea of the dialog. The summary should be exactly two sentences. The first sentence of the summary is about the customer, and the second sentence of summary is about the agent.\n",
            "# Dialog\n",
            "customer: looking to change my flight Friday, Oct 27. GRMSKV to DL4728 from SLC to ORD. Is that an option and what is the cost? Jess\n",
            "agent: The difference in fare is $185.30. This would include all airport taxes and fees. The ticket is non-refundable changeable with a fee, and may result in additional fare collection for changes when making a future changes.\n",
            "customer: I had a first class seat purchased for the original flight, would that be the same with this flight to Chicago?\n",
            "agent: Hello, Jess. That is the fare difference. You will have to call us at 1 800 221 1212 to make any changes. It is in First class.\n",
            "customer: thx\n",
            "agent: Our pleasure.\n",
            "customer: Do I have to call or is there a means to do this online?\n",
            "agent: You can call or you can login to your trip on our website to make changes.\n",
            "# Summary\n",
            "\n"
          ]
        }
      ]
    },
    {
      "cell_type": "code",
      "source": [
        "zero_shot_outputs = []\n",
        "\n",
        "for prompt in tqdm(zero_shot_dataset):\n",
        "\n",
        "    inputs = tokenizer(prompt, return_tensors='pt').to(model.device)\n",
        "\n",
        "    with torch.no_grad():\n",
        "        tokens = model.generate(\n",
        "            **inputs, max_new_tokens=64, pad_token_id=tokenizer.pad_token_id\n",
        "        )\n",
        "\n",
        "    tokens = tokens[0][inputs['input_ids'].size(1):]\n",
        "    output = tokenizer.decode(tokens, skip_special_tokens=True)\n",
        "    zero_shot_outputs.append(output)"
      ],
      "metadata": {
        "id": "PcGsId0866XA",
        "colab": {
          "base_uri": "https://localhost:8080/",
          "height": 49,
          "referenced_widgets": [
            "6ab1b20fef8a42efabcc0ad3e6525925",
            "91677b99b791433ea4059e2a2c94adfa",
            "5e4f5e771b6c400782c9c28f96387ae1",
            "8b725ad51ce24c769ce59a47165a14a6",
            "801c260e196b41ad8948622231d0cc71",
            "d1204ce799144b2e84192679c558777e",
            "f0142e9b9cdf49739611e28553952d66",
            "987872c131d24ea2b6fa343793e47c89",
            "7f4af4d239a34a84a4cd264e31733384",
            "6b02f116630a42b9bec03980c516e3e2",
            "2e2c903bd4a549449502cb4564db68bb"
          ]
        },
        "outputId": "80f5740a-b658-4483-8a1e-bb54c7c09f96"
      },
      "execution_count": null,
      "outputs": [
        {
          "output_type": "display_data",
          "data": {
            "text/plain": [
              "  0%|          | 0/110 [00:00<?, ?it/s]"
            ],
            "application/vnd.jupyter.widget-view+json": {
              "version_major": 2,
              "version_minor": 0,
              "model_id": "6ab1b20fef8a42efabcc0ad3e6525925"
            }
          },
          "metadata": {}
        }
      ]
    },
    {
      "cell_type": "code",
      "source": [
        "results = rouge.compute(predictions=zero_shot_outputs, references=gt_summaries)\n",
        "print(\"Zero-Shot ROUGE Scores:\")\n",
        "print(results)"
      ],
      "metadata": {
        "id": "mGjmkF6WAMo3",
        "colab": {
          "base_uri": "https://localhost:8080/"
        },
        "outputId": "b7ae3d60-8e60-4ab3-85ff-a4650d288b34"
      },
      "execution_count": null,
      "outputs": [
        {
          "output_type": "stream",
          "name": "stdout",
          "text": [
            "Zero-Shot ROUGE Scores:\n",
            "{'rouge1': np.float64(0.36726034343988745), 'rouge2': np.float64(0.11481313993461453), 'rougeL': np.float64(0.2814894848571833), 'rougeLsum': np.float64(0.2817368637071258)}\n"
          ]
        }
      ]
    },
    {
      "cell_type": "markdown",
      "source": [
        "### One-Shot Evaluation"
      ],
      "metadata": {
        "id": "txlsRp3DFVEs"
      }
    },
    {
      "cell_type": "code",
      "source": [
        "one_shot_dataset = [preprocessor.get_one_shot_prompt(datapoint, tweetSumm['train']) for datapoint in tweetSumm['test']]\n",
        "print(one_shot_dataset[0])"
      ],
      "metadata": {
        "id": "tuoCLp6PO_1I",
        "colab": {
          "base_uri": "https://localhost:8080/"
        },
        "outputId": "4c7ab968-ec73-4fbf-c49a-a88b5670567c"
      },
      "execution_count": null,
      "outputs": [
        {
          "output_type": "stream",
          "name": "stdout",
          "text": [
            "# Instruction\n",
            "Based on the provided dialog between a customer and agent, generate a concise summary of the dialog. The summary should include the main idea of the dialog. The summary should be exactly two sentences. The first sentence of the summary is about the customer, and the second sentence of summary is about the agent.\n",
            "# Dialog\n",
            "customer: also, how do I import my iTunes smart playlist songs to Spotify?\n",
            "agent: Hey there! You can try following the steps at Let us know how it goes. On the other hand, we're afraid that local files will not appear under Your Library (Songs, Artists, Albums).\n",
            "customer: please do. I've worked the past 10 years on creating those playlists in iTunes, and the whole purpose of migrating to Spotify is that it's social. So now I don't have any benefits of being a Spotify subscriber... is there really no workaround for this? I wouldn't mind putting some time into making this work, but Spotify just has so little use for me if this can't be done...\n",
            "agent: We're afraid this isn't possible, but we can see how that'd be handy. Your feedback has been noted. Don't worry, once you've imported your iTunes tracks, you can easily move them to playlists by following the steps at /WP\n",
            "customer: I think Im missing the point. That article doesnt say anything about iTunes or how to move songs added through iTunes to playlists :-(\n",
            "agent: Sorry about the confusion. The steps you're looking for are on the first link we provided. Just head here:\n",
            "customer: yes I already did that before I asked my initial question (about importing smart playlists).\n",
            "agent: We understand where you're coming from. Currently, it won't be possible to do this. Rest assured, we'll let our devs know this is something you'd like to see /DV\n",
            "customer: okay, thanks. How do I cancel my subscription? Is this possible each month, or is it per year?\n",
            "agent: No problem. Canceling the subscription can be done anytime. Can you also let us know your account's username or email address? We'll see what we can suggest /DN\n",
            "# Summary\n",
            "Customer is asking how to import their iTunes smart playlist songs to Spotify. Agent provides the link in which they will find steps to be followed and asks the account's username or email address.\n",
            "# Dialog\n",
            "customer: looking to change my flight Friday, Oct 27. GRMSKV to DL4728 from SLC to ORD. Is that an option and what is the cost? Jess\n",
            "agent: The difference in fare is $185.30. This would include all airport taxes and fees. The ticket is non-refundable changeable with a fee, and may result in additional fare collection for changes when making a future changes.\n",
            "customer: I had a first class seat purchased for the original flight, would that be the same with this flight to Chicago?\n",
            "agent: Hello, Jess. That is the fare difference. You will have to call us at 1 800 221 1212 to make any changes. It is in First class.\n",
            "customer: thx\n",
            "agent: Our pleasure.\n",
            "customer: Do I have to call or is there a means to do this online?\n",
            "agent: You can call or you can login to your trip on our website to make changes.\n",
            "# Summary\n",
            "\n"
          ]
        }
      ]
    },
    {
      "cell_type": "code",
      "source": [
        "one_shot_outputs = []\n",
        "\n",
        "for prompt in tqdm(one_shot_dataset):\n",
        "\n",
        "    inputs = tokenizer(prompt, return_tensors='pt').to(model.device)\n",
        "\n",
        "    with torch.no_grad():\n",
        "        tokens = model.generate(\n",
        "            **inputs, max_new_tokens=64, pad_token_id=tokenizer.pad_token_id\n",
        "        )\n",
        "\n",
        "    tokens = tokens[0][inputs['input_ids'].size(1):]\n",
        "    output = tokenizer.decode(tokens, skip_special_tokens=True)\n",
        "    one_shot_outputs.append(output)"
      ],
      "metadata": {
        "id": "a0MWtGXx0bTI",
        "colab": {
          "base_uri": "https://localhost:8080/",
          "height": 49,
          "referenced_widgets": [
            "52ade57efd48452baba00e6267e73a77",
            "8dd34642e7c04042a84a3a6cbd4e94a6",
            "2fd630f827f844b9965e93e28db5a1cd",
            "c2558c838b77439399f22725feec5dcf",
            "97ef0be4c0504f51ad97035c3848f45e",
            "be01aa5b555f4adcb7710e39964cf43d",
            "cb02294ac26044cd85d9dc5b9d6060e7",
            "db0894aae2e8446ea008a7a2e537818f",
            "2d1a8e60dcf34629b943dc110ad2c469",
            "d7c03b587dd842ff8c373dd81d64a013",
            "658d335ff0414079a7b22d39a157297f"
          ]
        },
        "outputId": "10361f45-e1b8-4a13-e922-ea4ee05c6530"
      },
      "execution_count": null,
      "outputs": [
        {
          "output_type": "display_data",
          "data": {
            "text/plain": [
              "  0%|          | 0/110 [00:00<?, ?it/s]"
            ],
            "application/vnd.jupyter.widget-view+json": {
              "version_major": 2,
              "version_minor": 0,
              "model_id": "52ade57efd48452baba00e6267e73a77"
            }
          },
          "metadata": {}
        }
      ]
    },
    {
      "cell_type": "code",
      "source": [
        "results = rouge.compute(predictions=one_shot_outputs, references=gt_summaries)\n",
        "print(\"One-Shot ROUGE Scores:\")\n",
        "print(results)"
      ],
      "metadata": {
        "colab": {
          "base_uri": "https://localhost:8080/"
        },
        "id": "Six4mC59-TAS",
        "outputId": "2298c13a-43c5-46ed-fae7-5b3fe94b93a3"
      },
      "execution_count": null,
      "outputs": [
        {
          "output_type": "stream",
          "name": "stdout",
          "text": [
            "One-Shot ROUGE Scores:\n",
            "{'rouge1': np.float64(0.36481825871434326), 'rouge2': np.float64(0.128734082932617), 'rougeL': np.float64(0.295246312038686), 'rougeLsum': np.float64(0.2953557537867456)}\n"
          ]
        }
      ]
    },
    {
      "cell_type": "markdown",
      "source": [
        "## LoRA Fine-Tuning"
      ],
      "metadata": {
        "id": "jhcj1xALFIoE"
      }
    },
    {
      "cell_type": "code",
      "source": [
        "lora_config = LoraConfig(\n",
        "    task_type=\"CAUSAL_LM\",\n",
        "    r=16, lora_alpha=16,\n",
        "    bias=\"none\",\n",
        "    target_modules=[\"q_proj\", \"k_proj\", \"v_proj\", \"o_proj\"],\n",
        "    inference_mode=False,\n",
        ")\n",
        "\n",
        "training_args = SFTConfig(\n",
        "    output_dir=\"./qwen2-lora-finetuned\",\n",
        "    per_device_train_batch_size=2,\n",
        "    learning_rate=2e-4,\n",
        "    num_train_epochs=3,\n",
        "    logging_steps=10,\n",
        "    save_strategy=\"epoch\",\n",
        "    bf16=True,\n",
        "    report_to=\"none\",\n",
        ")\n",
        "\n",
        "trainer = SFTTrainer(\n",
        "    model=model,\n",
        "    train_dataset=tweetSumm['train'],\n",
        "    peft_config=lora_config,\n",
        "    args=training_args\n",
        ")\n",
        "\n",
        "print(\"\\nStarting training...\")\n",
        "trainer.train()"
      ],
      "metadata": {
        "id": "l2CzNthfhjeO_modified_r16"
      },
      "execution_count": null,
      "outputs": []
    },
    {
      "cell_type": "code",
      "source": [
        "fine_tuned_outputs = []\n",
        "\n",
        "for prompt in tqdm(zero_shot_dataset):\n",
        "\n",
        "    inputs = tokenizer(prompt, return_tensors='pt').to(model.device)\n",
        "\n",
        "    with torch.no_grad():\n",
        "        tokens = model.generate(\n",
        "            **inputs, max_new_tokens=64, pad_token_id=tokenizer.pad_token_id\n",
        "        )\n",
        "\n",
        "    tokens = tokens[0][inputs['input_ids'].size(1):]\n",
        "    output = tokenizer.decode(tokens, skip_special_tokens=True)\n",
        "    fine_tuned_outputs.append(output)"
      ],
      "metadata": {
        "id": "OoIIgC9olHRE_modified_r16"
      },
      "execution_count": null,
      "outputs": []
    },
    {
      "cell_type": "code",
      "source": [
        "results_16 = rouge.compute(predictions=fine_tuned_outputs, references=gt_summaries)\n",
        "print(\"LoRA Fine-Tuned ROUGE Scores:\")\n",
        "print(results_16)"
      ],
      "metadata": {
        "id": "zRBCy6OumPRU_modified_r16"
      },
      "execution_count": null,
      "outputs": []
    }
  ]
}